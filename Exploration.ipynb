{
 "cells": [
  {
   "cell_type": "code",
   "execution_count": 2,
   "metadata": {},
   "outputs": [
    {
     "data": {
      "text/html": [
       "<div>\n",
       "<style scoped>\n",
       "    .dataframe tbody tr th:only-of-type {\n",
       "        vertical-align: middle;\n",
       "    }\n",
       "\n",
       "    .dataframe tbody tr th {\n",
       "        vertical-align: top;\n",
       "    }\n",
       "\n",
       "    .dataframe thead th {\n",
       "        text-align: right;\n",
       "    }\n",
       "</style>\n",
       "<table border=\"1\" class=\"dataframe\">\n",
       "  <thead>\n",
       "    <tr style=\"text-align: right;\">\n",
       "      <th></th>\n",
       "      <th>reported_date</th>\n",
       "      <th>reporting_country_territory</th>\n",
       "      <th>province_city</th>\n",
       "      <th>confirmed_cases</th>\n",
       "      <th>new_confirmed_cases</th>\n",
       "      <th>total_deaths</th>\n",
       "      <th>new_total_deaths</th>\n",
       "      <th>transmission_classification</th>\n",
       "      <th>total_cases_with_travel_history_to_china</th>\n",
       "      <th>new_cases_with_travel_history_to_china</th>\n",
       "      <th>...</th>\n",
       "      <th>daily_clinically_diagnosed_cases</th>\n",
       "      <th>daily_total_cases</th>\n",
       "      <th>cumulative_total_cases</th>\n",
       "      <th>cumulative_lab_confirmed_cases</th>\n",
       "      <th>cumulative_clinically_diagnosed_cases</th>\n",
       "      <th>cumulative_deaths</th>\n",
       "      <th>days_since_last_reported</th>\n",
       "      <th>who_region</th>\n",
       "      <th>population</th>\n",
       "      <th>report_url</th>\n",
       "    </tr>\n",
       "  </thead>\n",
       "  <tbody>\n",
       "    <tr>\n",
       "      <th>0</th>\n",
       "      <td>2020-04-05</td>\n",
       "      <td>China</td>\n",
       "      <td>NaN</td>\n",
       "      <td>82875</td>\n",
       "      <td>73.0</td>\n",
       "      <td>3335.0</td>\n",
       "      <td>4.0</td>\n",
       "      <td>Local transmission</td>\n",
       "      <td>NaN</td>\n",
       "      <td>NaN</td>\n",
       "      <td>...</td>\n",
       "      <td>NaN</td>\n",
       "      <td>NaN</td>\n",
       "      <td>NaN</td>\n",
       "      <td>NaN</td>\n",
       "      <td>NaN</td>\n",
       "      <td>NaN</td>\n",
       "      <td>0.0</td>\n",
       "      <td>NaN</td>\n",
       "      <td>NaN</td>\n",
       "      <td>https://www.who.int/docs/default-source/corona...</td>\n",
       "    </tr>\n",
       "    <tr>\n",
       "      <th>1</th>\n",
       "      <td>2020-04-05</td>\n",
       "      <td>Republic of Korea</td>\n",
       "      <td>NaN</td>\n",
       "      <td>10156</td>\n",
       "      <td>94.0</td>\n",
       "      <td>177.0</td>\n",
       "      <td>3.0</td>\n",
       "      <td>Local transmission</td>\n",
       "      <td>NaN</td>\n",
       "      <td>NaN</td>\n",
       "      <td>...</td>\n",
       "      <td>NaN</td>\n",
       "      <td>NaN</td>\n",
       "      <td>NaN</td>\n",
       "      <td>NaN</td>\n",
       "      <td>NaN</td>\n",
       "      <td>NaN</td>\n",
       "      <td>0.0</td>\n",
       "      <td>NaN</td>\n",
       "      <td>NaN</td>\n",
       "      <td>https://www.who.int/docs/default-source/corona...</td>\n",
       "    </tr>\n",
       "    <tr>\n",
       "      <th>2</th>\n",
       "      <td>2020-04-05</td>\n",
       "      <td>Australia</td>\n",
       "      <td>NaN</td>\n",
       "      <td>5454</td>\n",
       "      <td>230.0</td>\n",
       "      <td>28.0</td>\n",
       "      <td>5.0</td>\n",
       "      <td>Local transmission</td>\n",
       "      <td>NaN</td>\n",
       "      <td>NaN</td>\n",
       "      <td>...</td>\n",
       "      <td>NaN</td>\n",
       "      <td>NaN</td>\n",
       "      <td>NaN</td>\n",
       "      <td>NaN</td>\n",
       "      <td>NaN</td>\n",
       "      <td>NaN</td>\n",
       "      <td>0.0</td>\n",
       "      <td>NaN</td>\n",
       "      <td>NaN</td>\n",
       "      <td>https://www.who.int/docs/default-source/corona...</td>\n",
       "    </tr>\n",
       "    <tr>\n",
       "      <th>3</th>\n",
       "      <td>2020-04-05</td>\n",
       "      <td>Malaysia</td>\n",
       "      <td>NaN</td>\n",
       "      <td>3333</td>\n",
       "      <td>217.0</td>\n",
       "      <td>53.0</td>\n",
       "      <td>3.0</td>\n",
       "      <td>Local transmission</td>\n",
       "      <td>NaN</td>\n",
       "      <td>NaN</td>\n",
       "      <td>...</td>\n",
       "      <td>NaN</td>\n",
       "      <td>NaN</td>\n",
       "      <td>NaN</td>\n",
       "      <td>NaN</td>\n",
       "      <td>NaN</td>\n",
       "      <td>NaN</td>\n",
       "      <td>0.0</td>\n",
       "      <td>NaN</td>\n",
       "      <td>NaN</td>\n",
       "      <td>https://www.who.int/docs/default-source/corona...</td>\n",
       "    </tr>\n",
       "    <tr>\n",
       "      <th>4</th>\n",
       "      <td>2020-04-05</td>\n",
       "      <td>Philippines</td>\n",
       "      <td>NaN</td>\n",
       "      <td>3018</td>\n",
       "      <td>385.0</td>\n",
       "      <td>136.0</td>\n",
       "      <td>29.0</td>\n",
       "      <td>Local transmission</td>\n",
       "      <td>NaN</td>\n",
       "      <td>NaN</td>\n",
       "      <td>...</td>\n",
       "      <td>NaN</td>\n",
       "      <td>NaN</td>\n",
       "      <td>NaN</td>\n",
       "      <td>NaN</td>\n",
       "      <td>NaN</td>\n",
       "      <td>NaN</td>\n",
       "      <td>0.0</td>\n",
       "      <td>NaN</td>\n",
       "      <td>NaN</td>\n",
       "      <td>https://www.who.int/docs/default-source/corona...</td>\n",
       "    </tr>\n",
       "  </tbody>\n",
       "</table>\n",
       "<p>5 rows × 33 columns</p>\n",
       "</div>"
      ],
      "text/plain": [
       "  reported_date reporting_country_territory province_city confirmed_cases  \\\n",
       "0    2020-04-05                       China           NaN           82875   \n",
       "1    2020-04-05           Republic of Korea           NaN           10156   \n",
       "2    2020-04-05                   Australia           NaN            5454   \n",
       "3    2020-04-05                    Malaysia           NaN            3333   \n",
       "4    2020-04-05                 Philippines           NaN            3018   \n",
       "\n",
       "   new_confirmed_cases  total_deaths  new_total_deaths  \\\n",
       "0                 73.0        3335.0               4.0   \n",
       "1                 94.0         177.0               3.0   \n",
       "2                230.0          28.0               5.0   \n",
       "3                217.0          53.0               3.0   \n",
       "4                385.0         136.0              29.0   \n",
       "\n",
       "  transmission_classification  total_cases_with_travel_history_to_china  \\\n",
       "0          Local transmission                                       NaN   \n",
       "1          Local transmission                                       NaN   \n",
       "2          Local transmission                                       NaN   \n",
       "3          Local transmission                                       NaN   \n",
       "4          Local transmission                                       NaN   \n",
       "\n",
       "   new_cases_with_travel_history_to_china  ...  \\\n",
       "0                                     NaN  ...   \n",
       "1                                     NaN  ...   \n",
       "2                                     NaN  ...   \n",
       "3                                     NaN  ...   \n",
       "4                                     NaN  ...   \n",
       "\n",
       "  daily_clinically_diagnosed_cases  daily_total_cases  cumulative_total_cases  \\\n",
       "0                              NaN                NaN                     NaN   \n",
       "1                              NaN                NaN                     NaN   \n",
       "2                              NaN                NaN                     NaN   \n",
       "3                              NaN                NaN                     NaN   \n",
       "4                              NaN                NaN                     NaN   \n",
       "\n",
       "   cumulative_lab_confirmed_cases  cumulative_clinically_diagnosed_cases  \\\n",
       "0                             NaN                                    NaN   \n",
       "1                             NaN                                    NaN   \n",
       "2                             NaN                                    NaN   \n",
       "3                             NaN                                    NaN   \n",
       "4                             NaN                                    NaN   \n",
       "\n",
       "  cumulative_deaths  days_since_last_reported who_region  population  \\\n",
       "0               NaN                       0.0        NaN         NaN   \n",
       "1               NaN                       0.0        NaN         NaN   \n",
       "2               NaN                       0.0        NaN         NaN   \n",
       "3               NaN                       0.0        NaN         NaN   \n",
       "4               NaN                       0.0        NaN         NaN   \n",
       "\n",
       "                                          report_url  \n",
       "0  https://www.who.int/docs/default-source/corona...  \n",
       "1  https://www.who.int/docs/default-source/corona...  \n",
       "2  https://www.who.int/docs/default-source/corona...  \n",
       "3  https://www.who.int/docs/default-source/corona...  \n",
       "4  https://www.who.int/docs/default-source/corona...  \n",
       "\n",
       "[5 rows x 33 columns]"
      ]
     },
     "execution_count": 2,
     "metadata": {},
     "output_type": "execute_result"
    }
   ],
   "source": [
    "import pandas as pd\n",
    "import numpy as np\n",
    "import matplotlib.pyplot as plt\n",
    "\n",
    "df = pd.read_csv('UNCOVER/WHO/who-situation-reports-covid-19.csv')\n",
    "df.head()"
   ]
  },
  {
   "cell_type": "markdown",
   "metadata": {},
   "source": [
    "Seems like there are many missing values in this dataset, lets see which columns are most affected."
   ]
  },
  {
   "cell_type": "code",
   "execution_count": 4,
   "metadata": {},
   "outputs": [
    {
     "data": {
      "text/plain": [
       "reported_date                                                        False\n",
       "reporting_country_territory                                          False\n",
       "province_city                                                        False\n",
       "confirmed_cases                                                      False\n",
       "new_confirmed_cases                                                  False\n",
       "total_deaths                                                         False\n",
       "new_total_deaths                                                     False\n",
       "transmission_classification                                          False\n",
       "total_cases_with_travel_history_to_china                             False\n",
       "new_cases_with_travel_history_to_china                               False\n",
       "total_cases_with_possible_or_confirmed_transmission_outside_china    False\n",
       "new_cases_with_possible_or_confirmed_transmission_outside_china      False\n",
       "total_cases_with_site_of_transmission_under_investigation            False\n",
       "new_cases_with_site_of_transmission_under_investigation              False\n",
       "place_of_exposure_in_china_cases                                     False\n",
       "place_of_exposure_in_china_cases_new                                 False\n",
       "place_of_exposure_outside_reporting_country_and_china_cases          False\n",
       "place_of_exposure_outside_reporting_country_and_china_cases_new      False\n",
       "place_of_exposure_in_reporting_country_cases                         False\n",
       "place_of_exposure_in_reporting_country_cases_new                     False\n",
       "suspected_cases                                                      False\n",
       "daily_suspected_cases                                                False\n",
       "daily_lab_confirmed_cases                                            False\n",
       "daily_clinically_diagnosed_cases                                     False\n",
       "daily_total_cases                                                     True\n",
       "cumulative_total_cases                                                True\n",
       "cumulative_lab_confirmed_cases                                       False\n",
       "cumulative_clinically_diagnosed_cases                                False\n",
       "cumulative_deaths                                                     True\n",
       "days_since_last_reported                                             False\n",
       "who_region                                                            True\n",
       "population                                                           False\n",
       "report_url                                                           False\n",
       "dtype: bool"
      ]
     },
     "execution_count": 4,
     "metadata": {},
     "output_type": "execute_result"
    }
   ],
   "source": [
    "df.isna().all()"
   ]
  },
  {
   "cell_type": "code",
   "execution_count": 12,
   "metadata": {},
   "outputs": [
    {
     "data": {
      "text/plain": [
       "reported_date                                                        0.000000\n",
       "reporting_country_territory                                          0.000000\n",
       "province_city                                                        0.800593\n",
       "confirmed_cases                                                      0.000000\n",
       "new_confirmed_cases                                                  0.092163\n",
       "total_deaths                                                         0.081851\n",
       "new_total_deaths                                                     0.098479\n",
       "transmission_classification                                          0.315545\n",
       "total_cases_with_travel_history_to_china                             0.948569\n",
       "new_cases_with_travel_history_to_china                               0.956174\n",
       "total_cases_with_possible_or_confirmed_transmission_outside_china    0.948569\n",
       "new_cases_with_possible_or_confirmed_transmission_outside_china      0.956432\n",
       "total_cases_with_site_of_transmission_under_investigation            0.984532\n",
       "new_cases_with_site_of_transmission_under_investigation              0.993168\n",
       "place_of_exposure_in_china_cases                                     0.963006\n",
       "place_of_exposure_in_china_cases_new                                 0.963006\n",
       "place_of_exposure_outside_reporting_country_and_china_cases          0.963135\n",
       "place_of_exposure_outside_reporting_country_and_china_cases_new      0.963006\n",
       "place_of_exposure_in_reporting_country_cases                         0.963264\n",
       "place_of_exposure_in_reporting_country_cases_new                     0.963006\n",
       "suspected_cases                                                      0.872905\n",
       "daily_suspected_cases                                                0.986852\n",
       "daily_lab_confirmed_cases                                            0.986852\n",
       "daily_clinically_diagnosed_cases                                     0.986852\n",
       "daily_total_cases                                                    1.000000\n",
       "cumulative_total_cases                                               1.000000\n",
       "cumulative_lab_confirmed_cases                                       0.986852\n",
       "cumulative_clinically_diagnosed_cases                                0.986852\n",
       "cumulative_deaths                                                    1.000000\n",
       "days_since_last_reported                                             0.311034\n",
       "who_region                                                           1.000000\n",
       "population                                                           0.855375\n",
       "report_url                                                           0.000000\n",
       "dtype: float64"
      ]
     },
     "execution_count": 12,
     "metadata": {},
     "output_type": "execute_result"
    }
   ],
   "source": [
    "df.isna().mean()"
   ]
  },
  {
   "cell_type": "markdown",
   "metadata": {},
   "source": [
    "Well, it seems clear that we can remove the columns that have only missing values"
   ]
  },
  {
   "cell_type": "code",
   "execution_count": 19,
   "metadata": {},
   "outputs": [],
   "source": [
    "only_na = df.columns[df.isna().all()]\n",
    "df = df.drop(only_na, axis=1)"
   ]
  },
  {
   "cell_type": "markdown",
   "metadata": {},
   "source": [
    "What about the other columns, that contain more than 90% missing values"
   ]
  },
  {
   "cell_type": "code",
   "execution_count": 25,
   "metadata": {},
   "outputs": [
    {
     "data": {
      "text/plain": [
       "2020-02-17    26\n",
       "2020-02-18    26\n",
       "2020-02-16    26\n",
       "2020-02-15    26\n",
       "2020-02-06    25\n",
       "2020-02-14    25\n",
       "2020-02-10    25\n",
       "2020-02-09    25\n",
       "2020-02-07    25\n",
       "2020-02-12    25\n",
       "2020-02-13    25\n",
       "2020-02-08    25\n",
       "2020-02-11    25\n",
       "2020-02-05    24\n",
       "2020-02-04    23\n",
       "2020-02-03    23\n",
       "Name: reported_date, dtype: int64"
      ]
     },
     "execution_count": 25,
     "metadata": {},
     "output_type": "execute_result"
    }
   ],
   "source": [
    "df[df['total_cases_with_travel_history_to_china'].notna()]['reported_date'].value_counts()"
   ]
  },
  {
   "cell_type": "code",
   "execution_count": 26,
   "metadata": {},
   "outputs": [
    {
     "data": {
      "text/plain": [
       "2020-02-17    26\n",
       "2020-02-18    26\n",
       "2020-02-16    26\n",
       "2020-02-15    26\n",
       "2020-02-06    25\n",
       "2020-02-14    25\n",
       "2020-02-10    25\n",
       "2020-02-09    25\n",
       "2020-02-07    25\n",
       "2020-02-12    25\n",
       "2020-02-13    25\n",
       "2020-02-08    25\n",
       "2020-02-11    25\n",
       "2020-02-05    24\n",
       "2020-02-04    23\n",
       "2020-02-03    23\n",
       "Name: reported_date, dtype: int64"
      ]
     },
     "execution_count": 26,
     "metadata": {},
     "output_type": "execute_result"
    }
   ],
   "source": [
    "df[df['total_cases_with_possible_or_confirmed_transmission_outside_china'].notna()]['reported_date'].value_counts()"
   ]
  },
  {
   "cell_type": "code",
   "execution_count": 28,
   "metadata": {},
   "outputs": [
    {
     "data": {
      "text/plain": [
       "2020-02-19    26\n",
       "2020-02-06    25\n",
       "2020-02-05    24\n",
       "2020-02-04    23\n",
       "2020-02-03    22\n",
       "Name: reported_date, dtype: int64"
      ]
     },
     "execution_count": 28,
     "metadata": {},
     "output_type": "execute_result"
    }
   ],
   "source": [
    "# Remove this column\n",
    "df[df['total_cases_with_site_of_transmission_under_investigation'].notna()]['reported_date'].value_counts()"
   ]
  },
  {
   "cell_type": "code",
   "execution_count": 29,
   "metadata": {},
   "outputs": [
    {
     "data": {
      "text/plain": [
       "2020-02-19    26\n",
       "2020-02-06    24\n",
       "2020-02-05     1\n",
       "2020-02-03     1\n",
       "2020-02-04     1\n",
       "Name: reported_date, dtype: int64"
      ]
     },
     "execution_count": 29,
     "metadata": {},
     "output_type": "execute_result"
    }
   ],
   "source": [
    "# Remove this column\n",
    "df[df['new_cases_with_site_of_transmission_under_investigation'].notna()]['reported_date'].value_counts()"
   ]
  },
  {
   "cell_type": "code",
   "execution_count": 33,
   "metadata": {},
   "outputs": [
    {
     "data": {
      "text/plain": [
       "0.0     79\n",
       "1.0     55\n",
       "3.0     27\n",
       "2.0     27\n",
       "23.0    13\n",
       "13.0    12\n",
       "6.0     10\n",
       "8.0      9\n",
       "12.0     9\n",
       "7.0      9\n",
       "5.0      8\n",
       "28.0     6\n",
       "14.0     6\n",
       "24.0     5\n",
       "17.0     5\n",
       "18.0     4\n",
       "26.0     2\n",
       "27.0     1\n",
       "Name: place_of_exposure_in_china_cases, dtype: int64"
      ]
     },
     "execution_count": 33,
     "metadata": {},
     "output_type": "execute_result"
    }
   ],
   "source": [
    "# REMOVE - data doesn't make sense as well as the variable of the same name with the _new suffix\n",
    "df['place_of_exposure_in_china_cases'][df['place_of_exposure_in_china_cases'].notna()].value_counts()"
   ]
  },
  {
   "cell_type": "code",
   "execution_count": 38,
   "metadata": {},
   "outputs": [
    {
     "data": {
      "text/plain": [
       "0.0     170\n",
       "1.0      37\n",
       "2.0      28\n",
       "4.0      11\n",
       "6.0       8\n",
       "5.0       6\n",
       "8.0       5\n",
       "7.0       4\n",
       "10.0      4\n",
       "18.0      3\n",
       "36.0      2\n",
       "3.0       2\n",
       "43.0      1\n",
       "26.0      1\n",
       "12.0      1\n",
       "11.0      1\n",
       "42.0      1\n",
       "33.0      1\n",
       "Name: place_of_exposure_outside_reporting_country_and_china_cases, dtype: int64"
      ]
     },
     "execution_count": 38,
     "metadata": {},
     "output_type": "execute_result"
    }
   ],
   "source": [
    "# REMOVE - data doesn't make sense as well as the variable of the same name with the _new suffix\n",
    "df['place_of_exposure_outside_reporting_country_and_china_cases'][df['place_of_exposure_outside_reporting_country_and_china_cases'].notna()].value_counts()"
   ]
  },
  {
   "cell_type": "code",
   "execution_count": 40,
   "metadata": {},
   "outputs": [
    {
     "data": {
      "text/plain": [
       "0.0      152\n",
       "1.0       23\n",
       "2.0       21\n",
       "7.0       12\n",
       "5.0       11\n",
       "8.0        9\n",
       "3.0        9\n",
       "14.0       9\n",
       "605.0      4\n",
       "28.0       4\n",
       "121.0      2\n",
       "6.0        2\n",
       "18.0       2\n",
       "46.0       1\n",
       "54.0       1\n",
       "353.0      1\n",
       "72.0       1\n",
       "57.0       1\n",
       "29.0       1\n",
       "39.0       1\n",
       "158.0      1\n",
       "68.0       1\n",
       "55.0       1\n",
       "288.0      1\n",
       "56.0       1\n",
       "92.0       1\n",
       "58.0       1\n",
       "9.0        1\n",
       "104.0      1\n",
       "65.0       1\n",
       "10.0       1\n",
       "110.0      1\n",
       "66.0       1\n",
       "116.0      1\n",
       "67.0       1\n",
       "129.0      1\n",
       "69.0       1\n",
       "51.0       1\n",
       "Name: place_of_exposure_in_reporting_country_cases, dtype: int64"
      ]
     },
     "execution_count": 40,
     "metadata": {},
     "output_type": "execute_result"
    }
   ],
   "source": [
    "# REMOVE - data doesn't make sense as well as the variable of the same name with the _new suffix\n",
    "df['place_of_exposure_in_reporting_country_cases'][df['place_of_exposure_in_reporting_country_cases'].notna()].value_counts()"
   ]
  },
  {
   "cell_type": "markdown",
   "metadata": {},
   "source": [
    "### Ideas to analyze data:\n",
    "* Merge with population data\n",
    "* Stream to provide live results\n",
    "* Create a linear regression model"
   ]
  },
  {
   "cell_type": "markdown",
   "metadata": {},
   "source": [
    "# TBC"
   ]
  },
  {
   "cell_type": "code",
   "execution_count": null,
   "metadata": {},
   "outputs": [],
   "source": []
  }
 ],
 "metadata": {
  "kernelspec": {
   "display_name": "Python 3",
   "language": "python",
   "name": "python3"
  },
  "language_info": {
   "codemirror_mode": {
    "name": "ipython",
    "version": 3
   },
   "file_extension": ".py",
   "mimetype": "text/x-python",
   "name": "python",
   "nbconvert_exporter": "python",
   "pygments_lexer": "ipython3",
   "version": "3.8.2"
  }
 },
 "nbformat": 4,
 "nbformat_minor": 4
}
